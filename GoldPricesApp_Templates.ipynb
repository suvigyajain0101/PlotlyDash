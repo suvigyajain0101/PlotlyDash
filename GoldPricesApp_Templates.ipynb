{
  "nbformat": 4,
  "nbformat_minor": 0,
  "metadata": {
    "colab": {
      "name": "GoldPricesApp_Templates.ipynb",
      "provenance": []
    },
    "kernelspec": {
      "name": "python3",
      "display_name": "Python 3"
    },
    "language_info": {
      "name": "python"
    }
  },
  "cells": [
    {
      "cell_type": "markdown",
      "source": [
        "# Gold Prices App\n",
        "\n",
        "This code is an example to create an app showing a line graph created using a csv file."
      ],
      "metadata": {
        "id": "W4HV2hxZPMLA"
      }
    },
    {
      "cell_type": "code",
      "source": [
        "import dash\n",
        "from dash import html\n",
        "from dash import dcc\n",
        "import plotly.express as px\n",
        "import pandas as pd"
      ],
      "metadata": {
        "id": "XOBsTGOyPCEi"
      },
      "execution_count": null,
      "outputs": []
    },
    {
      "cell_type": "markdown",
      "source": [
        "### Read Data"
      ],
      "metadata": {
        "id": "OqdQK8faPZ7I"
      }
    },
    {
      "cell_type": "code",
      "execution_count": null,
      "metadata": {
        "id": "FuyfH5wUOug9"
      },
      "outputs": [],
      "source": [
        "# Read input data\n",
        "data = pd.read_csv('precious_metals_prices_2018_2021.csv', usecols=['DateTime', 'Gold'])"
      ]
    },
    {
      "cell_type": "markdown",
      "source": [
        "### Create figure using Plotly Express"
      ],
      "metadata": {
        "id": "f0ehQOJZPcKF"
      }
    },
    {
      "cell_type": "code",
      "source": [
        "# create a plotly figure\n",
        "fig = px.line(data, x='DateTime', y='Gold', title='Precious Metal Prices')"
      ],
      "metadata": {
        "id": "5h4VQAu2PG47"
      },
      "execution_count": null,
      "outputs": []
    },
    {
      "cell_type": "markdown",
      "source": [
        "### Define App Layout"
      ],
      "metadata": {
        "id": "soYhQGPyPgVr"
      }
    },
    {
      "cell_type": "code",
      "source": [
        "app = dash.Dash(__name__)\n",
        "app.title = 'Precious Metal Prices'\n",
        "\n",
        "app.layout = html.Div(\n",
        "    id='app-container',\n",
        "    children=[\n",
        "        html.H1('Precious Metal Prices'),\n",
        "        html.P('Results in USD/oz'),\n",
        "        dcc.Graph(figure=fig)\n",
        "    ]\n",
        ")"
      ],
      "metadata": {
        "id": "S962r1C1PE9b"
      },
      "execution_count": null,
      "outputs": []
    },
    {
      "cell_type": "markdown",
      "source": [
        "### Run the app"
      ],
      "metadata": {
        "id": "kf2xCln5PoaF"
      }
    },
    {
      "cell_type": "code",
      "source": [
        "if __name__ == \"__main__\":\n",
        "    app.run_server(debug=True)"
      ],
      "metadata": {
        "id": "tkeVpcHBPlo8"
      },
      "execution_count": null,
      "outputs": []
    }
  ]
}