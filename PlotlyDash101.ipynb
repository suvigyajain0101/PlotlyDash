{
  "nbformat": 4,
  "nbformat_minor": 0,
  "metadata": {
    "colab": {
      "name": "PlotlyDash101.ipynb",
      "provenance": [],
      "authorship_tag": "ABX9TyPw+J5DCBo2/aYVVHwkQIUi"
    },
    "kernelspec": {
      "name": "python3",
      "display_name": "Python 3"
    },
    "language_info": {
      "name": "python"
    }
  },
  "cells": [
    {
      "cell_type": "markdown",
      "source": [
        "# Plotly Dash\n",
        "\n",
        "This notebook explains the basic Hello World application on Dash"
      ],
      "metadata": {
        "id": "1PHbyTKBzl3A"
      }
    },
    {
      "cell_type": "code",
      "execution_count": 1,
      "metadata": {
        "id": "deuZ8UIch_OW"
      },
      "outputs": [],
      "source": [
        "# ! pip install dash\n",
        "# ! pip install gunicorn"
      ]
    },
    {
      "cell_type": "code",
      "source": [
        "import dash\n",
        "from dash import html\n",
        "\n",
        "# App constructor\n",
        "app = dash.Dash(__name__)\n",
        "\n",
        "# App Layout describes how the app will look like\n",
        "# html will be used for rendering html objects and .P is HTML Paragraph\n",
        "app.layout = html.P(\"Hello World!\")\n",
        "\n",
        "\n",
        "if __name__ == \"__main__\":\n",
        "    # Now, we run the app - If ran in the debug mode, it provides the option of Hot-Reloading\n",
        "    # Hot-Reloading reflects the changes on the browser without the need to refresh\n",
        "    app.run_server(debug=False)"
      ],
      "metadata": {
        "colab": {
          "base_uri": "https://localhost:8080/"
        },
        "id": "oXHUccwRxMrU",
        "outputId": "7404168d-1fd5-49d8-ac61-1988afee87d0"
      },
      "execution_count": 2,
      "outputs": [
        {
          "output_type": "stream",
          "name": "stdout",
          "text": [
            "Dash is running on http://127.0.0.1:8050/\n",
            "\n",
            " * Serving Flask app \"__main__\" (lazy loading)\n",
            " * Environment: production\n",
            "\u001b[31m   WARNING: This is a development server. Do not use it in a production deployment.\u001b[0m\n",
            "\u001b[2m   Use a production WSGI server instead.\u001b[0m\n",
            " * Debug mode: off\n"
          ]
        },
        {
          "output_type": "stream",
          "name": "stderr",
          "text": [
            " * Running on http://127.0.0.1:8050/ (Press CTRL+C to quit)\n"
          ]
        }
      ]
    }
  ]
}